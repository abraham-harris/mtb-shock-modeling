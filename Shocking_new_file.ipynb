{
 "cells": [
  {
   "cell_type": "code",
   "execution_count": 1,
   "metadata": {},
   "outputs": [],
   "source": [
    "#import block\n",
    "import numpy as np"
   ]
  },
  {
   "cell_type": "code",
   "execution_count": 2,
   "metadata": {},
   "outputs": [],
   "source": [
    "class Shock:\n",
    "    \"\"\"A shock object class. This class has all the features contributing to the shock ODE of  I(y) &= my\" + p(y, y') y' + q(y) y \n",
    "        y\" + p(y,y')y' + q(y)y = Impulse Force\n",
    "        q(y) = spring curve\n",
    "        p(y,y')  = C(y,y') + R(y) +F with C = compression damping, R = rebound, F = friction\n",
    "    Attributes:\n",
    "        friction (float): resistance from friction\n",
    "        pressure (Air pressure/sag) (float): initial position of spring based on rider weight (TODO: Include weight category?)\n",
    "        compression (Function of y,y'): compression speed of shock\n",
    "        rebound (function of y): rebound speed of shock\n",
    "        spring_type (string): accepts \"air\" or \"spring\"\n",
    "        volume_spacers (list of tuples): First item in tuple tells how many, second tells thickness. List format allows for different sized spacers\n",
    "    \"\"\"\n",
    "    def __init__(self, k, friction_constant, pressure, compression, rebound, spring_type, volume_spacers,mass):\n",
    "        self.friction = friction_constant/(2*mass)\n",
    "        self.k = k\n",
    "        self.pressure = pressure\n",
    "        self.compression = compression\n",
    "        self.rebound = rebound\n",
    "        self.spring_type = spring_type\n",
    "        self.volume_spacers = volume_spacers\n",
    "        self.ImpulseForce = 0\n",
    "        self.mass = mass\n",
    "\n",
    "        #Defining q\n",
    "        if spring_type == \"air\":\n",
    "            self.q = self.air_spring(self.k,self.mass)\n",
    "        else:\n",
    "            self.q = self.standard_spring(self.k,self.mass)\n",
    "        \n",
    "        #defining p\n",
    "        self.R = self.rebound/self.mass\n",
    "    \n",
    "    def air_spring(self, mass, k):\n",
    "        #Returns an exponential spring constant divided by mass (see form of) equation 1.4\n",
    "        return (self.k**2)/self.mass\n",
    "\n",
    "    def standard_spring(self, mass, k):\n",
    "        #returns standard spring constant\n",
    "        return (self.k)/self.mass\n",
    "\n",
    "    \n"
   ]
  }
 ],
 "metadata": {
  "kernelspec": {
   "display_name": "Python 3",
   "language": "python",
   "name": "python3"
  },
  "language_info": {
   "codemirror_mode": {
    "name": "ipython",
    "version": 3
   },
   "file_extension": ".py",
   "mimetype": "text/x-python",
   "name": "python",
   "nbconvert_exporter": "python",
   "pygments_lexer": "ipython3",
   "version": "3.10.15"
  }
 },
 "nbformat": 4,
 "nbformat_minor": 2
}
