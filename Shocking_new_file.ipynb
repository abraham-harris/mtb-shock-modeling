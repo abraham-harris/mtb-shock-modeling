{
 "cells": [
  {
   "cell_type": "code",
   "execution_count": 1,
   "metadata": {},
   "outputs": [],
   "source": [
    "#import block\n",
    "import numpy as np"
   ]
  },
  {
   "cell_type": "code",
   "execution_count": 2,
   "metadata": {},
   "outputs": [],
   "source": [
    "class Shock:\n",
    "    \"\"\"A shock object class. This class has all the features contributing to the shock ODE of  I(y) &= my\" + p(y, y') y' + q(y) y \n",
    "        p(y, y') &= C(y, y') + R(y) + F\n",
    "        q(y) &= \n",
    "        C(y,y')  &=\n",
    "        R(y) &= \n",
    "    Attributes:\n",
    "        friction (float): resistance from friction\n",
    "        pressure (Air pressure/sag) (float): initial position of spring based on rider weight (TODO: Include weight category?)\n",
    "        compression (Function of y,y'): compression speed of shock\n",
    "        rebound (function of y): rebound speed of shock\n",
    "        spring_type (string): accepts \"air\" or \"spring\"\n",
    "        volume_spacers (list of tuples): First item in tuple tells how many, second tells thickness. List format allows for different sized spacers\n",
    "    \"\"\"\n",
    "    def __init__(self, friction, pressure, compression, rebound, spring_type, volume_spacers):\n",
    "        self.friction = friction\n",
    "        self.pressure = pressure\n",
    "        self.compression = compression\n",
    "        self.rebound = rebound\n",
    "        self.spring_type = spring_type\n",
    "        self.volume_spacers = volume_spacers\n",
    "        self.ImpulseForce = 0\n",
    "    \n",
    "    def air_spring():\n",
    "        pass\n",
    "\n",
    "    def standard_spring():\n",
    "        pass\n",
    "\n"
   ]
  }
 ],
 "metadata": {
  "kernelspec": {
   "display_name": "Python 3",
   "language": "python",
   "name": "python3"
  },
  "language_info": {
   "codemirror_mode": {
    "name": "ipython",
    "version": 3
   },
   "file_extension": ".py",
   "mimetype": "text/x-python",
   "name": "python",
   "nbconvert_exporter": "python",
   "pygments_lexer": "ipython3",
   "version": "3.10.15"
  }
 },
 "nbformat": 4,
 "nbformat_minor": 2
}
