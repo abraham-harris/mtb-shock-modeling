{
 "cells": [
  {
   "cell_type": "code",
   "execution_count": 1,
   "metadata": {},
   "outputs": [],
   "source": [
    "import numpy as np\n",
    "from scipy.integrate import solve_ivp\n",
    "import matplotlib.pyplot as plt\n",
    "import scipy.constants as constants"
   ]
  },
  {
   "cell_type": "markdown",
   "metadata": {},
   "source": [
    "## Helpful classes"
   ]
  },
  {
   "cell_type": "code",
   "execution_count": null,
   "metadata": {},
   "outputs": [],
   "source": [
    "class Shock:\n",
    "    def __init__(self, config=None):\n",
    "        self.config = config\n",
    "\n",
    "        self.spring_type = config[\"spring_type\"]\n",
    "        self.spring_constant = config[\"spring_constant\"]\n",
    "        self.initial_pressure = config[\"initial_pressure\"]\n",
    "        self.rider_weight = config[\"rider_weight\"]\n",
    "        self.progression_tokens = config[\"progression_tokens\"] # volume spacers\n",
    "\n",
    "        self.rebound_param = config[\"rebound\"]\n",
    "        self.HSC_param = config[\"HSC\"]\n",
    "        self.LSC_param = config[\"LSC\"]\n",
    "\n",
    "        self.friction = config[\"friction\"]\n",
    "\n",
    "        self.y0 = None\n",
    "        if self.spring_type == \"coil\":\n",
    "            self.y0 = [self.rider_weight * constants.g / self.spring_constant, 0]\n",
    "        elif self.spring_type == \"air\":\n",
    "            self.y0 = [np.sqrt(self.rider_weight * constants.g/ self.initial_pressure), 0]\n",
    "\n",
    "    def get_model(self):\n",
    "        return self.model, self.get_y0()\n",
    "\n",
    "    def model(self, t, y, f):\n",
    "        return [y[1], -self.spring(t, y[0]) +\n",
    "                            -self.damping(t, y[0], y[1]) * y[1] + \n",
    "                            f(t) + constants.g]\n",
    "\n",
    "    def get_y0(self):\n",
    "        return self.y0\n",
    "    \n",
    "    def spring(self, t, y):\n",
    "\n",
    "        # This is from Hooke's Law\n",
    "        if self.spring_type == \"coil\":\n",
    "            return self.config[\"spring_constant\"] * y / self.rider_weight\n",
    "        \n",
    "        # This derivation comes from the ideal gas law\n",
    "        elif self.spring_type == \"air\":\n",
    "            return self.initial_pressure * y**2 / self.rider_weight\n",
    "        \n",
    "    # TODO : Make these functions\n",
    "    def LSC(self, t, y, dy):\n",
    "        if dy > 0:\n",
    "            return 0\n",
    "        return self.LSC_param / np.max((1, np.abs(dy)))\n",
    "\n",
    "    def HSC(self, t, y, dy):\n",
    "        if dy > 0:\n",
    "            return 0\n",
    "        return self.HSC_param * np.min((1, np.abs(dy)))\n",
    "\n",
    "    def rebound(self, t, y, dy):\n",
    "        if dy < 0:\n",
    "            return 0\n",
    "        return self.rebound_param \n",
    "\n",
    "    def damping(self, t, y, dy):\n",
    "        return  self.LSC(t, y, dy) + self.HSC(t, y, dy) + self.rebound(t, y, dy) + self.friction "
   ]
  },
  {
   "cell_type": "code",
   "execution_count": null,
   "metadata": {},
   "outputs": [],
   "source": [
    "class Evaluator():\n",
    "    def __init__(self, shock=None):\n",
    "        self.shock = shock\n",
    "        self.sol = None\n",
    "        # self.trail_forces = config[\"trail_forces\"]\n",
    "        # self.t_len = len(self.trail_forces)\n",
    "        # self.t_eval = np.linspace(0, self.t_len, self.t_len)\n",
    "        # self.t_span = (0, self.t_len)\n",
    "\n",
    "    def set_params(self, params):\n",
    "        pass\n",
    "\n",
    "    def set_shock(self, shock):\n",
    "        self.shock = shock\n",
    "\n",
    "    def evaluate(self, trail):\n",
    "        \n",
    "        if self.shock is None:\n",
    "            raise ValueError(\"Shock is not set\")\n",
    "        trail_forces, t_eval, t_span = trail.get_trail()\n",
    "\n",
    "\n",
    "        model, y0 = self.shock.get_model()\n",
    "        print(y0)\n",
    "        self.sol = solve_ivp(model, t_span, y0, args=(trail_forces,), t_eval=t_eval)\n",
    "        return self.sol\n",
    "    \n",
    "    def plot(self, trail=None):\n",
    "        if self.sol is None and trail is None:\n",
    "            raise ValueError(\"No solution to plot. Please specify a trail to evaluate\")\n",
    "        elif self.sol is None:\n",
    "            self.evaluate(trail)\n",
    "\n",
    "        plt.plot(self.sol.t, -self.sol.y[0], label=\"Shock Displacement\")\n",
    "        # plt.plot(self.sol.t, self.sol.y[1], label=\"Shock Velocity\")\n",
    "        # plt.plot(self.sol.t, self.sol.y[2], label=\"Shock Acceleration\")\n",
    "        plt.plot(self.sol.t, trail.trail_func(self.sol.t), label=\"Trail Forces\")\n",
    "        plt.legend()\n",
    "        plt.show()\n",
    "        "
   ]
  },
  {
   "cell_type": "code",
   "execution_count": null,
   "metadata": {},
   "outputs": [],
   "source": [
    "class Trail():\n",
    "    def __init__(self, config=None,trail_func=lambda t:50*np.abs(np.sin(t/10)) + 75*np.abs(np.cos(t/5))):\n",
    "        self.config = config\n",
    "        self.length = config[\"length\"]\n",
    "        self.t_eval = np.array(range(self.length))\n",
    "        self.t_span = (0, self.length)\n",
    "        self.forces = None\n",
    "        self.trail_func = trail_func\n",
    "\n",
    "    def generate_terrain(self):\n",
    "        pass\n",
    "\n",
    "    def create_trail(self):\n",
    "        return self.trail_func\n",
    "    \n",
    "    def get_trail(self):\n",
    "        if self.forces is None:\n",
    "            self.forces = self.create_trail()\n",
    "        return self.forces, self.t_eval, self.t_span\n",
    "\n",
    "    "
   ]
  },
  {
   "cell_type": "code",
   "execution_count": null,
   "metadata": {},
   "outputs": [],
   "source": [
    "def Terrain():\n",
    "    def __init__(self,size,a,type):\n",
    "        self.size = size # correspnds to number time\n",
    "        self.a = a # amplitude\n",
    "        self.type = type\n",
    "\n",
    "    def get_force(self, time_array, start_time):\n",
    "        # find a final time\n",
    "        fin_time = int(self.size * 3 + start_time) + 1\n",
    "\n",
    "        # decide if you're goind down or up\n",
    "        if self.type == 'ramp':\n",
    "            force = lambda t : self.a* np.sin(t)\n",
    "        elif self.type == 'gully':\n",
    "            force = lambda t : self.a - self.a * np.sin(t)\n",
    "\n",
    "        # add the bump to the array of forces\n",
    "        diff = fin_time - start_time\n",
    "        curve = np.linspace(0,2*np.pi,diff)\n",
    "        added = force(curve)\n",
    "        time_array[start_time:fin_time] = added\n",
    "        return time_array\n",
    "\n",
    "\n"
   ]
  },
  {
   "cell_type": "markdown",
   "metadata": {},
   "source": [
    "## Make a model"
   ]
  },
  {
   "cell_type": "code",
   "execution_count": 11,
   "metadata": {},
   "outputs": [
    {
     "name": "stdout",
     "output_type": "stream",
     "text": [
      "[5.85860691632405, 0]\n"
     ]
    },
    {
     "data": {
      "image/png": "[encoded data removed]",
      "text/plain": [
       "<Figure size 432x288 with 1 Axes>"
      ]
     },
     "metadata": {
      "needs_background": "light"
     },
     "output_type": "display_data"
    }
   ],
   "source": [
    "shock_config = {\n",
    "    \"spring_type\": \"air\",\n",
    "    \"spring_constant\": 11, # 5 N/m\n",
    "    \"initial_pressure\": 10,\n",
    "    \"rider_weight\": 35, \n",
    "    \"progression_tokens\": 0,\n",
    "    \"rebound\": 0,\n",
    "    \"HSC\": 4,\n",
    "    \"LSC\": 4,\n",
    "    \"friction\": 0.1\n",
    "}\n",
    "\n",
    "trail_config = {\n",
    "    \"length\": 100\n",
    "}\n",
    "\n",
    "shock = Shock(shock_config)\n",
    "evaluator = Evaluator(shock)\n",
    "trail = Trail(trail_config)\n",
    "\n",
    "evaluator.plot(trail)"
   ]
  },
  {
   "cell_type": "code",
   "execution_count": 18,
   "metadata": {},
   "outputs": [
    {
     "name": "stdout",
     "output_type": "stream",
     "text": [
      "[5.85860691632405, 0]\n"
     ]
    },
    {
     "ename": "ValueError",
     "evalue": "The truth value of an array with more than one element is ambiguous. Use a.any() or a.all()",
     "output_type": "error",
     "traceback": [
      "\u001b[0;31m---------------------------------------------------------------------------\u001b[0m",
      "\u001b[0;31mValueError\u001b[0m                                Traceback (most recent call last)",
      "\u001b[0;32m/tmp/ipykernel_380015/3765774096.py\u001b[0m in \u001b[0;36m<module>\u001b[0;34m\u001b[0m\n\u001b[1;32m     18\u001b[0m \u001b[0mtrail\u001b[0m \u001b[0;34m=\u001b[0m \u001b[0mTrail\u001b[0m\u001b[0;34m(\u001b[0m\u001b[0mtrail_config\u001b[0m\u001b[0;34m,\u001b[0m\u001b[0mtrail_func\u001b[0m\u001b[0;34m=\u001b[0m\u001b[0mf\u001b[0m\u001b[0;34m)\u001b[0m\u001b[0;34m\u001b[0m\u001b[0;34m\u001b[0m\u001b[0m\n\u001b[1;32m     19\u001b[0m \u001b[0;34m\u001b[0m\u001b[0m\n\u001b[0;32m---> 20\u001b[0;31m \u001b[0mevaluator\u001b[0m\u001b[0;34m.\u001b[0m\u001b[0mplot\u001b[0m\u001b[0;34m(\u001b[0m\u001b[0mtrail\u001b[0m\u001b[0;34m)\u001b[0m\u001b[0;34m\u001b[0m\u001b[0;34m\u001b[0m\u001b[0m\n\u001b[0m",
      "\u001b[0;32m/tmp/ipykernel_380015/2490689151.py\u001b[0m in \u001b[0;36mplot\u001b[0;34m(self, trail)\u001b[0m\n\u001b[1;32m     35\u001b[0m         \u001b[0;31m# plt.plot(self.sol.t, self.sol.y[1], label=\"Shock Velocity\")\u001b[0m\u001b[0;34m\u001b[0m\u001b[0;34m\u001b[0m\u001b[0m\n\u001b[1;32m     36\u001b[0m         \u001b[0;31m# plt.plot(self.sol.t, self.sol.y[2], label=\"Shock Acceleration\")\u001b[0m\u001b[0;34m\u001b[0m\u001b[0;34m\u001b[0m\u001b[0m\n\u001b[0;32m---> 37\u001b[0;31m         \u001b[0mplt\u001b[0m\u001b[0;34m.\u001b[0m\u001b[0mplot\u001b[0m\u001b[0;34m(\u001b[0m\u001b[0mself\u001b[0m\u001b[0;34m.\u001b[0m\u001b[0msol\u001b[0m\u001b[0;34m.\u001b[0m\u001b[0mt\u001b[0m\u001b[0;34m,\u001b[0m \u001b[0mtrail\u001b[0m\u001b[0;34m.\u001b[0m\u001b[0mtrail_func\u001b[0m\u001b[0;34m(\u001b[0m\u001b[0mself\u001b[0m\u001b[0;34m.\u001b[0m\u001b[0msol\u001b[0m\u001b[0;34m.\u001b[0m\u001b[0mt\u001b[0m\u001b[0;34m)\u001b[0m\u001b[0;34m,\u001b[0m \u001b[0mlabel\u001b[0m\u001b[0;34m=\u001b[0m\u001b[0;34m\"Trail Forces\"\u001b[0m\u001b[0;34m)\u001b[0m\u001b[0;34m\u001b[0m\u001b[0;34m\u001b[0m\u001b[0m\n\u001b[0m\u001b[1;32m     38\u001b[0m         \u001b[0mplt\u001b[0m\u001b[0;34m.\u001b[0m\u001b[0mlegend\u001b[0m\u001b[0;34m(\u001b[0m\u001b[0;34m)\u001b[0m\u001b[0;34m\u001b[0m\u001b[0;34m\u001b[0m\u001b[0m\n\u001b[1;32m     39\u001b[0m         \u001b[0mplt\u001b[0m\u001b[0;34m.\u001b[0m\u001b[0mshow\u001b[0m\u001b[0;34m(\u001b[0m\u001b[0;34m)\u001b[0m\u001b[0;34m\u001b[0m\u001b[0;34m\u001b[0m\u001b[0m\n",
      "\u001b[0;32m/tmp/ipykernel_380015/3765774096.py\u001b[0m in \u001b[0;36mf\u001b[0;34m(t)\u001b[0m\n\u001b[1;32m      7\u001b[0m     \u001b[0;31m# else:\u001b[0m\u001b[0;34m\u001b[0m\u001b[0;34m\u001b[0m\u001b[0m\n\u001b[1;32m      8\u001b[0m     \u001b[0;31m#     x = 10\u001b[0m\u001b[0;34m\u001b[0m\u001b[0;34m\u001b[0m\u001b[0m\n\u001b[0;32m----> 9\u001b[0;31m     \u001b[0;32mreturn\u001b[0m \u001b[0mnp\u001b[0m\u001b[0;34m.\u001b[0m\u001b[0mpiecewise\u001b[0m\u001b[0;34m(\u001b[0m\u001b[0mt\u001b[0m\u001b[0;34m,\u001b[0m\u001b[0;34m[\u001b[0m\u001b[0mnp\u001b[0m\u001b[0;34m.\u001b[0m\u001b[0mpi\u001b[0m \u001b[0;34m>\u001b[0m \u001b[0;34m(\u001b[0m\u001b[0mt\u001b[0m \u001b[0;34m%\u001b[0m \u001b[0;36m20\u001b[0m\u001b[0;34m)\u001b[0m\u001b[0;34m,\u001b[0m \u001b[0mnp\u001b[0m\u001b[0;34m.\u001b[0m\u001b[0mpi\u001b[0m \u001b[0;34m<=\u001b[0m \u001b[0;34m(\u001b[0m\u001b[0mt\u001b[0m \u001b[0;34m%\u001b[0m \u001b[0;36m20\u001b[0m\u001b[0;34m)\u001b[0m \u001b[0;34m<=\u001b[0m \u001b[0;36m5\u001b[0m \u001b[0;34m*\u001b[0m \u001b[0mnp\u001b[0m\u001b[0;34m.\u001b[0m\u001b[0mpi\u001b[0m\u001b[0;34m,\u001b[0m \u001b[0;36m5\u001b[0m \u001b[0;34m*\u001b[0m \u001b[0mnp\u001b[0m\u001b[0;34m.\u001b[0m\u001b[0mpi\u001b[0m \u001b[0;34m<\u001b[0m \u001b[0;34m(\u001b[0m\u001b[0mt\u001b[0m \u001b[0;34m%\u001b[0m \u001b[0;36m20\u001b[0m\u001b[0;34m)\u001b[0m\u001b[0;34m]\u001b[0m\u001b[0;34m,\u001b[0m\u001b[0;34m[\u001b[0m\u001b[0;36m10\u001b[0m\u001b[0;34m,\u001b[0m\u001b[0mg\u001b[0m\u001b[0;34m(\u001b[0m\u001b[0mt\u001b[0m\u001b[0;34m)\u001b[0m\u001b[0;34m,\u001b[0m\u001b[0;36m10\u001b[0m\u001b[0;34m]\u001b[0m\u001b[0;34m)\u001b[0m\u001b[0;34m\u001b[0m\u001b[0;34m\u001b[0m\u001b[0m\n\u001b[0m\u001b[1;32m     10\u001b[0m \u001b[0;34m\u001b[0m\u001b[0m\n\u001b[1;32m     11\u001b[0m \u001b[0;34m\u001b[0m\u001b[0m\n",
      "\u001b[0;31mValueError\u001b[0m: The truth value of an array with more than one element is ambiguous. Use a.any() or a.all()"
     ]
    },
    {
     "data": {
      "image/png": "[encoded data removed]",
      "text/plain": [
       "<Figure size 432x288 with 1 Axes>"
      ]
     },
     "metadata": {
      "needs_background": "light"
     },
     "output_type": "display_data"
    }
   ],
   "source": [
    "# def g(t,lam=1,amp=1):\n",
    "#     return 10 + 5*np.sin(t/2)\n",
    "\n",
    "# def f(t):\n",
    "#     # if np.pi <= (t % 20) <= 5 * np.pi:\n",
    "#     #     x = g(t)\n",
    "#     # else:\n",
    "#     #     x = 10\n",
    "#     return np.piecewise(t,[np.pi > (t % 20), np.pi <= (t % 20) <= 5 * np.pi, 5 * np.pi < (t % 20)],[10,g(t),10])\n",
    "\n",
    "\n",
    "# trail_config = {\n",
    "#     \"length\": 100\n",
    "# }\n",
    "\n",
    "# shock = Shock(shock_config)\n",
    "# evaluator = Evaluator(shock)\n",
    "# trail = Trail(trail_config,trail_func=f)\n",
    "\n",
    "# evaluator.plot(trail)"
   ]
  }
 ],
 "metadata": {
  "kernelspec": {
   "display_name": "Python 3",
   "language": "python",
   "name": "python3"
  },
  "language_info": {
   "codemirror_mode": {
    "name": "ipython",
    "version": 3
   },
   "file_extension": ".py",
   "mimetype": "text/x-python",
   "name": "python",
   "nbconvert_exporter": "python",
   "pygments_lexer": "ipython3",
   "version": "3.10.12"
  }
 },
 "nbformat": 4,
 "nbformat_minor": 2
}
