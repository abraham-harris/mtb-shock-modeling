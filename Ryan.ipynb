{
 "cells": [
  {
   "cell_type": "code",
   "execution_count": 1,
   "metadata": {},
   "outputs": [],
   "source": [
    "import numpy as np\n",
    "import matplotlib.pyplot as plt\n",
    "from scipy.stats import norm, uniform, beta"
   ]
  },
  {
   "cell_type": "code",
   "execution_count": null,
   "metadata": {},
   "outputs": [],
   "source": [
    "class Trail():\n",
    "    def __init__(self, length, num_obstacles, wvl_dists, amp_dists, loc_dists, probs=None, delta_t=0.01, equilibrium_force=0):\n",
    "        self.length = length\n",
    "        self.num_obstacles = num_obstacles\n",
    "        \n",
    "        assert len(wvl_dists) == len(amp_dists) == len(loc_dists), \"parameter distributions must be lists of equal length\"\n",
    "        self.wvl_dists = wvl_dists\n",
    "        self.amp_dists = amp_dists\n",
    "        self.loc_dists = loc_dists\n",
    "        \n",
    "\n",
    "        # assign or normalize probabilities for choosing distribution\n",
    "        if probs is None:\n",
    "            self.probs = [1/len(wvl_dists) for _ in range(len(wvl_dists))]\n",
    "        else:\n",
    "            assert np.isclose(1, sum(probs)), \"probabilities must sum to 1\"\n",
    "        \n",
    "        # generate time steps for the trail and then make it\n",
    "        self.timesteps = np.linspace(0, self.length, int(self.length / delta_t + 1))\n",
    "        self.trail = None\n",
    "        self.obstacles = []\n",
    "\n",
    "        # start trail with a starting force accounting for body weight\n",
    "        trail = equilibrium_force * np.ones_like(self.timesteps)\n",
    "        wvls = np.empty(self.num_obstacles)  #  obstacle wavelengths\n",
    "        amps = np.empty(self.num_obstacles)  #  obstacle amplitudes\n",
    "        locs = np.empty(self.num_obstacles)  # obstacle locations\n",
    "        \n",
    "        # generate obstacles and apply their forces to the trail\n",
    "        for i in range(self.num_obstacles):\n",
    "            j = np.random.choice(np.arange(len(self.wvl_dists)), p=probs)\n",
    "\n",
    "            # sample parameters for the obstacle\n",
    "            wvls[i] = self.wvl_dists[j].rvs()\n",
    "            amps[i] = self.amp_dists[j].rvs()\n",
    "            locs[i] = self.loc_dists[j].rvs()\n",
    "\n",
    "            # create the obstacle\n",
    "            obstacle = Obstacle(wvls[i], amps[i], locs[i])\n",
    "            self.obstacles.append(obstacle)\n",
    "\n",
    "            # add the force to the trail\n",
    "            trail += np.array([obstacle.force(t) for t in self.timesteps])\n",
    "        \n",
    "        # make the trail a class variable\n",
    "        self.trail = trail\n",
    "    \n",
    "    def plot_trail(self):\n",
    "        fig = plt.figure(figsize=(12, 8))\n",
    "        ax = fig.add_subplot(111)\n",
    "        ax.plot(self.timesteps, self.trail)\n",
    "        ax.set_xlim(0, self.length)\n",
    "        ax.set_ylim(0, max(self.trail)*1.1)\n",
    "        plt.show()\n",
    "\n",
    "    def get_trail(self):\n",
    "        return self.trail\n",
    "    \n",
    "    def trail_func(self,t):\n",
    "        # just wraps the trail list\n",
    "        return self.trail[t]"
   ]
  },
  {
   "cell_type": "code",
   "execution_count": null,
   "metadata": {},
   "outputs": [],
   "source": [
    "class Obstacle():\n",
    "    def __init__(self, wvl, amp, loc, shape=None):\n",
    "        self.wvl = wvl  # wavelength of the force\n",
    "        self.amp = amp  # amplitude of the force\n",
    "        self.loc = loc  # starting spot\n",
    "        \n",
    "        # randomly assign a shape if not provided\n",
    "        if shape is None:\n",
    "            self.shape = np.random.randint(6)\n",
    "        else:\n",
    "            self.shape = shape\n",
    "            \n",
    "        self.freq = np.pi / self.wvl\n",
    "        \n",
    "        # define force function based on the shape type\n",
    "        if self.shape == 0:\n",
    "            self.force = lambda t: self.amp * np.sin(self.freq*(t-self.loc)) if self.loc <= t <= self.loc + self.wvl else 0\n",
    "        elif self.shape == 1:\n",
    "            self.force = lambda t: self.amp * np.sin(self.freq*(t-self.loc)) if self.loc <= t <= self.loc + self.wvl / 2 else 0\n",
    "        elif self.shape == 2:\n",
    "            self.force = lambda t: self.amp * np.sin(self.freq*(t-self.loc)) if self.loc + self.wvl / 2 <= t <= self.loc + self.wvl else 0\n",
    "        elif self.shape == 3:\n",
    "            self.force = lambda t: self.amp - self.amp * np.sin(self.freq*(t-self.loc)) if self.loc <= t <= self.loc + self.wvl else 0\n",
    "        elif self.shape == 4:\n",
    "            self.force = lambda t: self.amp - self.amp * np.sin(self.freq*(t-self.loc)) if self.loc <= t <= self.loc + self.wvl / 2 else 0\n",
    "        elif self.shape == 5:\n",
    "            self.force = lambda t: self.amp - self.amp * np.sin(self.freq*(t-self.loc)) if self.loc + self.wvl / 2 <= t <= self.loc + self.wvl else 0\n",
    "        else:\n",
    "            raise ValueError(\"shape must be an integer between 0 and 5 inclusive\")\n",
    "        \n",
    "    def plot_force(self, res=500):\n",
    "        # this just plots the forces over the object\n",
    "        fig = plt.figure(figsize=(12, 8))\n",
    "        ax = fig.add_subplot(111)\n",
    "        domain = np.linspace(0, self.loc+self.wvl, res)\n",
    "        forces = [self.force(t) for t in domain]\n",
    "        ax.plot(domain, forces)\n",
    "        ax.set_xlim(0, self.loc+self.wvl)\n",
    "        ax.set_ylim(0, max(forces))\n",
    "        ax.set_xlabel(\"time (seconds)\")\n",
    "        ax.set_ylabel(\"force (newtons)\")\n",
    "        ax.set_title(\"Obstacle Force\")\n",
    "        plt.show()"
   ]
  },
  {
   "cell_type": "code",
   "execution_count": 4,
   "metadata": {},
   "outputs": [
    {
     "data": {
      "image/png": "[encoded data removed]",
      "text/plain": [
       "<Figure size 864x576 with 1 Axes>"
      ]
     },
     "metadata": {
      "needs_background": "light"
     },
     "output_type": "display_data"
    }
   ],
   "source": [
    "LENGTH = 100\n",
    "wvl_dists = [norm(loc=0.1, scale=0.01), norm(loc=0.5, scale=0.1), norm(loc=5, scale=0.2)]\n",
    "amp_dists = [norm(loc=800, scale=50), norm(loc=50, scale=2), norm(loc=200, scale=4)]\n",
    "loc_dists = [uniform(loc=0, scale=LENGTH), uniform(loc=0, scale=LENGTH), uniform(loc=0, scale=LENGTH)]\n",
    "probs = [0.1, 0.75, 0.15]\n",
    "trail = Trail(length=LENGTH, num_obstacles=50, wvl_dists=wvl_dists, amp_dists=amp_dists, loc_dists=loc_dists, probs=probs)\n",
    "trail.plot_trail()"
   ]
  },
  {
   "cell_type": "code",
   "execution_count": null,
   "metadata": {},
   "outputs": [],
   "source": []
  }
 ],
 "metadata": {
  "kernelspec": {
   "display_name": "Python 3 (ipykernel)",
   "language": "python",
   "name": "python3"
  },
  "language_info": {
   "codemirror_mode": {
    "name": "ipython",
    "version": 3
   },
   "file_extension": ".py",
   "mimetype": "text/x-python",
   "name": "python",
   "nbconvert_exporter": "python",
   "pygments_lexer": "ipython3",
   "version": "3.10.12"
  }
 },
 "nbformat": 4,
 "nbformat_minor": 2
}
